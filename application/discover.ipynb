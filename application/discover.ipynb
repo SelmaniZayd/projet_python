{
 "cells": [
  {
   "cell_type": "code",
   "execution_count": null,
   "metadata": {},
   "outputs": [],
   "source": [
    "import os\n",
    "import pandas as pd"
   ]
  },
  {
   "cell_type": "code",
   "execution_count": null,
   "metadata": {},
   "outputs": [],
   "source": [
    "airlines = pd.read_csv('files/airlines.csv')\n",
    "flights = pd.read_csv('files/flights.csv')\n",
    "planes = pd.read_csv('files/planes.csv')\n",
    "weather = pd.read_csv('files/weather.csv')\n",
    "airports = pd.read_csv('files/airports.csv')"
   ]
  },
  {
   "cell_type": "code",
   "execution_count": null,
   "metadata": {},
   "outputs": [],
   "source": [
    "airports.faa.value_counts() # 1458"
   ]
  },
  {
   "cell_type": "code",
   "execution_count": null,
   "metadata": {},
   "outputs": [],
   "source": [
    "Composite PK is : year, month, dat, hour, origin"
   ]
  },
  {
   "cell_type": "code",
   "execution_count": null,
   "metadata": {},
   "outputs": [],
   "source": [
    "weather.shape # 26 130"
   ]
  },
  {
   "cell_type": "code",
   "execution_count": null,
   "metadata": {},
   "outputs": [],
   "source": [
    "weather[['year', 'month', 'day', 'hour','origin']].drop_duplicates() # 26 130"
   ]
  },
  {
   "cell_type": "code",
   "execution_count": null,
   "metadata": {},
   "outputs": [],
   "source": [
    "flights can't have composite pk with date and origin or tailnum"
   ]
  },
  {
   "cell_type": "code",
   "execution_count": null,
   "metadata": {},
   "outputs": [],
   "source": [
    "flights.shape # 336 776"
   ]
  },
  {
   "cell_type": "code",
   "execution_count": null,
   "metadata": {},
   "outputs": [],
   "source": [
    "flights[['year', 'month', 'day', 'hour','origin']].drop_duplicates() # 19486"
   ]
  },
  {
   "cell_type": "code",
   "execution_count": null,
   "metadata": {},
   "outputs": [],
   "source": [
    "flights[['year', 'month', 'day', 'hour','origin', 'tailnum']].drop_duplicates() # 335592"
   ]
  },
  {
   "cell_type": "code",
   "execution_count": null,
   "metadata": {},
   "outputs": [],
   "source": [
    "Les problèmes : "
   ]
  },
  {
   "cell_type": "code",
   "execution_count": null,
   "metadata": {},
   "outputs": [],
   "source": [
    "Problème 1 : Aeroport dans flight mais non dans aeroport"
   ]
  },
  {
   "cell_type": "code",
   "execution_count": 249,
   "metadata": {},
   "outputs": [
    {
     "output_type": "execute_result",
     "data": {
      "text/plain": [
       "3      BQN\n",
       "28     SJU\n",
       "178    STT\n",
       "835    PSE\n",
       "Name: dest, dtype: object"
      ]
     },
     "metadata": {},
     "execution_count": 249
    }
   ],
   "source": [
    "pb1a = flights['dest'][~flights['dest'].isin(airports['faa'])]\n",
    "pb1a.drop_duplicates()\n",
    "# insert les lignes manquantes"
   ]
  },
  {
   "cell_type": "code",
   "execution_count": null,
   "metadata": {},
   "outputs": [],
   "source": [
    "pb1b = flights['origin'][~flights['origin'].isin(airports['faa'])]\n",
    "pb1b"
   ]
  },
  {
   "cell_type": "code",
   "execution_count": null,
   "metadata": {},
   "outputs": [],
   "source": [
    "Problème 2: des planes dans flights mais non existante dans planes "
   ]
  },
  {
   "cell_type": "code",
   "execution_count": 254,
   "metadata": {},
   "outputs": [
    {
     "output_type": "execute_result",
     "data": {
      "text/plain": [
       "9         N3ALAA\n",
       "14        N3DUAA\n",
       "18        N542MQ\n",
       "21        N730MQ\n",
       "25        N9EAMQ\n",
       "           ...  \n",
       "266825    N823MQ\n",
       "290770    N5FCAA\n",
       "294243    N5ERAA\n",
       "302529    N654MQ\n",
       "324307    N647MQ\n",
       "Name: tailnum, Length: 722, dtype: object"
      ]
     },
     "metadata": {},
     "execution_count": 254
    }
   ],
   "source": [
    "pb2 = flights['tailnum'][~flights['tailnum'].isin(planes['tailnum'])]\n",
    "pb2.drop_duplicates()\n",
    "# insert les lignes manquantes !!!!!!"
   ]
  },
  {
   "cell_type": "code",
   "execution_count": null,
   "metadata": {},
   "outputs": [],
   "source": [
    "Problème 3: données meteo dans flights mais pas dans weather !!"
   ]
  },
  {
   "cell_type": "code",
   "execution_count": 257,
   "metadata": {},
   "outputs": [
    {
     "output_type": "execute_result",
     "data": {
      "text/plain": [
       "   origin  year  month  day  hour   temp   dewp  humid wind_dir  \\\n",
       "0     EWR  2013      1    1     0  37.04  21.92  53.97      230   \n",
       "1     EWR  2013      1    1     1  37.04  21.92  53.97      230   \n",
       "2     EWR  2013      1    1     2  37.94  21.92  52.09      230   \n",
       "3     EWR  2013      1    1     3  37.94     23  54.51      230   \n",
       "4     EWR  2013      1    1     4  37.94  24.08  57.04      240   \n",
       "5     EWR  2013      1    1     6  39.02  26.06  59.37      270   \n",
       "6     EWR  2013      1    1     7  39.02  26.96  61.63      250   \n",
       "7     EWR  2013      1    1     8  39.02  28.04  64.43      240   \n",
       "8     EWR  2013      1    1     9  39.92  28.04  62.21      250   \n",
       "9     EWR  2013      1    1    10  39.02  28.04  64.43      260   \n",
       "10    EWR  2013      1    1    11  37.94  28.04  67.21      240   \n",
       "11    EWR  2013      1    1    12  39.02  28.04  64.43      240   \n",
       "12    EWR  2013      1    1    13  39.92  28.04  62.21      250   \n",
       "13    EWR  2013      1    1    14  39.92  28.04  62.21      260   \n",
       "14    EWR  2013      1    1    15     41  28.04  59.65      260   \n",
       "15    EWR  2013      1    1    16     41  26.96  57.06      260   \n",
       "16    EWR  2013      1    1    17   39.2   28.4  64.93      270   \n",
       "17    EWR  2013      1    1    18   39.2   28.4  64.93      330   \n",
       "18    EWR  2013      1    1    19  39.02  24.08  54.68      280   \n",
       "19    EWR  2013      1    1    20  37.94  24.08  57.04      290   \n",
       "\n",
       "            wind_speed           wind_gust  precip pressure  visib  \\\n",
       "0   10.357019999999999  11.918651475599997     0.0   1013.9   10.0   \n",
       "1   13.809359999999998  15.891535300799996     0.0     1013   10.0   \n",
       "2   12.658579999999999  14.567240692399997     0.0   1012.6   10.0   \n",
       "3   13.809359999999998  15.891535300799996     0.0   1012.7   10.0   \n",
       "4   14.960139999999999  17.215829909199996     0.0   1012.8   10.0   \n",
       "5   10.357019999999999  11.918651475599997     0.0     1012   10.0   \n",
       "6              8.05546        9.2700622588     0.0   1012.3   10.0   \n",
       "7              11.5078  13.242946083999998     0.0   1012.5   10.0   \n",
       "8   12.658579999999999  14.567240692399997     0.0   1012.2   10.0   \n",
       "9   12.658579999999999  14.567240692399997     0.0   1011.9   10.0   \n",
       "10             11.5078  13.242946083999998     0.0   1012.4   10.0   \n",
       "11  14.960139999999999  17.215829909199996     0.0   1012.2   10.0   \n",
       "12  10.357019999999999  11.918651475599997     0.0   1012.2   10.0   \n",
       "13  14.960139999999999  17.215829909199996     0.0   1012.7   10.0   \n",
       "14  13.809359999999998  15.891535300799996     0.0   1012.4   10.0   \n",
       "15  14.960139999999999  17.215829909199996     0.0   1011.4   10.0   \n",
       "16            16.11092       18.5401245176     0.0            10.0   \n",
       "17  14.960139999999999  17.215829909199996     0.0            10.0   \n",
       "18  13.809359999999998  15.891535300799996     0.0   1010.8   10.0   \n",
       "19             9.20624  10.594356867199998     0.0   1011.9   10.0   \n",
       "\n",
       "               time_hour  \n",
       "0   2013-01-01T00:00:00Z  \n",
       "1   2013-01-01T01:00:00Z  \n",
       "2   2013-01-01T02:00:00Z  \n",
       "3   2013-01-01T03:00:00Z  \n",
       "4   2013-01-01T04:00:00Z  \n",
       "5   2013-01-01T06:00:00Z  \n",
       "6   2013-01-01T07:00:00Z  \n",
       "7   2013-01-01T08:00:00Z  \n",
       "8   2013-01-01T09:00:00Z  \n",
       "9   2013-01-01T10:00:00Z  \n",
       "10  2013-01-01T11:00:00Z  \n",
       "11  2013-01-01T12:00:00Z  \n",
       "12  2013-01-01T13:00:00Z  \n",
       "13  2013-01-01T14:00:00Z  \n",
       "14  2013-01-01T15:00:00Z  \n",
       "15  2013-01-01T16:00:00Z  \n",
       "16  2013-01-01T17:00:00Z  \n",
       "17  2013-01-01T18:00:00Z  \n",
       "18  2013-01-01T19:00:00Z  \n",
       "19  2013-01-01T20:00:00Z  "
      ],
      "text/html": "<div>\n<style scoped>\n    .dataframe tbody tr th:only-of-type {\n        vertical-align: middle;\n    }\n\n    .dataframe tbody tr th {\n        vertical-align: top;\n    }\n\n    .dataframe thead th {\n        text-align: right;\n    }\n</style>\n<table border=\"1\" class=\"dataframe\">\n  <thead>\n    <tr style=\"text-align: right;\">\n      <th></th>\n      <th>origin</th>\n      <th>year</th>\n      <th>month</th>\n      <th>day</th>\n      <th>hour</th>\n      <th>temp</th>\n      <th>dewp</th>\n      <th>humid</th>\n      <th>wind_dir</th>\n      <th>wind_speed</th>\n      <th>wind_gust</th>\n      <th>precip</th>\n      <th>pressure</th>\n      <th>visib</th>\n      <th>time_hour</th>\n    </tr>\n  </thead>\n  <tbody>\n    <tr>\n      <th>0</th>\n      <td>EWR</td>\n      <td>2013</td>\n      <td>1</td>\n      <td>1</td>\n      <td>0</td>\n      <td>37.04</td>\n      <td>21.92</td>\n      <td>53.97</td>\n      <td>230</td>\n      <td>10.357019999999999</td>\n      <td>11.918651475599997</td>\n      <td>0.0</td>\n      <td>1013.9</td>\n      <td>10.0</td>\n      <td>2013-01-01T00:00:00Z</td>\n    </tr>\n    <tr>\n      <th>1</th>\n      <td>EWR</td>\n      <td>2013</td>\n      <td>1</td>\n      <td>1</td>\n      <td>1</td>\n      <td>37.04</td>\n      <td>21.92</td>\n      <td>53.97</td>\n      <td>230</td>\n      <td>13.809359999999998</td>\n      <td>15.891535300799996</td>\n      <td>0.0</td>\n      <td>1013</td>\n      <td>10.0</td>\n      <td>2013-01-01T01:00:00Z</td>\n    </tr>\n    <tr>\n      <th>2</th>\n      <td>EWR</td>\n      <td>2013</td>\n      <td>1</td>\n      <td>1</td>\n      <td>2</td>\n      <td>37.94</td>\n      <td>21.92</td>\n      <td>52.09</td>\n      <td>230</td>\n      <td>12.658579999999999</td>\n      <td>14.567240692399997</td>\n      <td>0.0</td>\n      <td>1012.6</td>\n      <td>10.0</td>\n      <td>2013-01-01T02:00:00Z</td>\n    </tr>\n    <tr>\n      <th>3</th>\n      <td>EWR</td>\n      <td>2013</td>\n      <td>1</td>\n      <td>1</td>\n      <td>3</td>\n      <td>37.94</td>\n      <td>23</td>\n      <td>54.51</td>\n      <td>230</td>\n      <td>13.809359999999998</td>\n      <td>15.891535300799996</td>\n      <td>0.0</td>\n      <td>1012.7</td>\n      <td>10.0</td>\n      <td>2013-01-01T03:00:00Z</td>\n    </tr>\n    <tr>\n      <th>4</th>\n      <td>EWR</td>\n      <td>2013</td>\n      <td>1</td>\n      <td>1</td>\n      <td>4</td>\n      <td>37.94</td>\n      <td>24.08</td>\n      <td>57.04</td>\n      <td>240</td>\n      <td>14.960139999999999</td>\n      <td>17.215829909199996</td>\n      <td>0.0</td>\n      <td>1012.8</td>\n      <td>10.0</td>\n      <td>2013-01-01T04:00:00Z</td>\n    </tr>\n    <tr>\n      <th>5</th>\n      <td>EWR</td>\n      <td>2013</td>\n      <td>1</td>\n      <td>1</td>\n      <td>6</td>\n      <td>39.02</td>\n      <td>26.06</td>\n      <td>59.37</td>\n      <td>270</td>\n      <td>10.357019999999999</td>\n      <td>11.918651475599997</td>\n      <td>0.0</td>\n      <td>1012</td>\n      <td>10.0</td>\n      <td>2013-01-01T06:00:00Z</td>\n    </tr>\n    <tr>\n      <th>6</th>\n      <td>EWR</td>\n      <td>2013</td>\n      <td>1</td>\n      <td>1</td>\n      <td>7</td>\n      <td>39.02</td>\n      <td>26.96</td>\n      <td>61.63</td>\n      <td>250</td>\n      <td>8.05546</td>\n      <td>9.2700622588</td>\n      <td>0.0</td>\n      <td>1012.3</td>\n      <td>10.0</td>\n      <td>2013-01-01T07:00:00Z</td>\n    </tr>\n    <tr>\n      <th>7</th>\n      <td>EWR</td>\n      <td>2013</td>\n      <td>1</td>\n      <td>1</td>\n      <td>8</td>\n      <td>39.02</td>\n      <td>28.04</td>\n      <td>64.43</td>\n      <td>240</td>\n      <td>11.5078</td>\n      <td>13.242946083999998</td>\n      <td>0.0</td>\n      <td>1012.5</td>\n      <td>10.0</td>\n      <td>2013-01-01T08:00:00Z</td>\n    </tr>\n    <tr>\n      <th>8</th>\n      <td>EWR</td>\n      <td>2013</td>\n      <td>1</td>\n      <td>1</td>\n      <td>9</td>\n      <td>39.92</td>\n      <td>28.04</td>\n      <td>62.21</td>\n      <td>250</td>\n      <td>12.658579999999999</td>\n      <td>14.567240692399997</td>\n      <td>0.0</td>\n      <td>1012.2</td>\n      <td>10.0</td>\n      <td>2013-01-01T09:00:00Z</td>\n    </tr>\n    <tr>\n      <th>9</th>\n      <td>EWR</td>\n      <td>2013</td>\n      <td>1</td>\n      <td>1</td>\n      <td>10</td>\n      <td>39.02</td>\n      <td>28.04</td>\n      <td>64.43</td>\n      <td>260</td>\n      <td>12.658579999999999</td>\n      <td>14.567240692399997</td>\n      <td>0.0</td>\n      <td>1011.9</td>\n      <td>10.0</td>\n      <td>2013-01-01T10:00:00Z</td>\n    </tr>\n    <tr>\n      <th>10</th>\n      <td>EWR</td>\n      <td>2013</td>\n      <td>1</td>\n      <td>1</td>\n      <td>11</td>\n      <td>37.94</td>\n      <td>28.04</td>\n      <td>67.21</td>\n      <td>240</td>\n      <td>11.5078</td>\n      <td>13.242946083999998</td>\n      <td>0.0</td>\n      <td>1012.4</td>\n      <td>10.0</td>\n      <td>2013-01-01T11:00:00Z</td>\n    </tr>\n    <tr>\n      <th>11</th>\n      <td>EWR</td>\n      <td>2013</td>\n      <td>1</td>\n      <td>1</td>\n      <td>12</td>\n      <td>39.02</td>\n      <td>28.04</td>\n      <td>64.43</td>\n      <td>240</td>\n      <td>14.960139999999999</td>\n      <td>17.215829909199996</td>\n      <td>0.0</td>\n      <td>1012.2</td>\n      <td>10.0</td>\n      <td>2013-01-01T12:00:00Z</td>\n    </tr>\n    <tr>\n      <th>12</th>\n      <td>EWR</td>\n      <td>2013</td>\n      <td>1</td>\n      <td>1</td>\n      <td>13</td>\n      <td>39.92</td>\n      <td>28.04</td>\n      <td>62.21</td>\n      <td>250</td>\n      <td>10.357019999999999</td>\n      <td>11.918651475599997</td>\n      <td>0.0</td>\n      <td>1012.2</td>\n      <td>10.0</td>\n      <td>2013-01-01T13:00:00Z</td>\n    </tr>\n    <tr>\n      <th>13</th>\n      <td>EWR</td>\n      <td>2013</td>\n      <td>1</td>\n      <td>1</td>\n      <td>14</td>\n      <td>39.92</td>\n      <td>28.04</td>\n      <td>62.21</td>\n      <td>260</td>\n      <td>14.960139999999999</td>\n      <td>17.215829909199996</td>\n      <td>0.0</td>\n      <td>1012.7</td>\n      <td>10.0</td>\n      <td>2013-01-01T14:00:00Z</td>\n    </tr>\n    <tr>\n      <th>14</th>\n      <td>EWR</td>\n      <td>2013</td>\n      <td>1</td>\n      <td>1</td>\n      <td>15</td>\n      <td>41</td>\n      <td>28.04</td>\n      <td>59.65</td>\n      <td>260</td>\n      <td>13.809359999999998</td>\n      <td>15.891535300799996</td>\n      <td>0.0</td>\n      <td>1012.4</td>\n      <td>10.0</td>\n      <td>2013-01-01T15:00:00Z</td>\n    </tr>\n    <tr>\n      <th>15</th>\n      <td>EWR</td>\n      <td>2013</td>\n      <td>1</td>\n      <td>1</td>\n      <td>16</td>\n      <td>41</td>\n      <td>26.96</td>\n      <td>57.06</td>\n      <td>260</td>\n      <td>14.960139999999999</td>\n      <td>17.215829909199996</td>\n      <td>0.0</td>\n      <td>1011.4</td>\n      <td>10.0</td>\n      <td>2013-01-01T16:00:00Z</td>\n    </tr>\n    <tr>\n      <th>16</th>\n      <td>EWR</td>\n      <td>2013</td>\n      <td>1</td>\n      <td>1</td>\n      <td>17</td>\n      <td>39.2</td>\n      <td>28.4</td>\n      <td>64.93</td>\n      <td>270</td>\n      <td>16.11092</td>\n      <td>18.5401245176</td>\n      <td>0.0</td>\n      <td></td>\n      <td>10.0</td>\n      <td>2013-01-01T17:00:00Z</td>\n    </tr>\n    <tr>\n      <th>17</th>\n      <td>EWR</td>\n      <td>2013</td>\n      <td>1</td>\n      <td>1</td>\n      <td>18</td>\n      <td>39.2</td>\n      <td>28.4</td>\n      <td>64.93</td>\n      <td>330</td>\n      <td>14.960139999999999</td>\n      <td>17.215829909199996</td>\n      <td>0.0</td>\n      <td></td>\n      <td>10.0</td>\n      <td>2013-01-01T18:00:00Z</td>\n    </tr>\n    <tr>\n      <th>18</th>\n      <td>EWR</td>\n      <td>2013</td>\n      <td>1</td>\n      <td>1</td>\n      <td>19</td>\n      <td>39.02</td>\n      <td>24.08</td>\n      <td>54.68</td>\n      <td>280</td>\n      <td>13.809359999999998</td>\n      <td>15.891535300799996</td>\n      <td>0.0</td>\n      <td>1010.8</td>\n      <td>10.0</td>\n      <td>2013-01-01T19:00:00Z</td>\n    </tr>\n    <tr>\n      <th>19</th>\n      <td>EWR</td>\n      <td>2013</td>\n      <td>1</td>\n      <td>1</td>\n      <td>20</td>\n      <td>37.94</td>\n      <td>24.08</td>\n      <td>57.04</td>\n      <td>290</td>\n      <td>9.20624</td>\n      <td>10.594356867199998</td>\n      <td>0.0</td>\n      <td>1011.9</td>\n      <td>10.0</td>\n      <td>2013-01-01T20:00:00Z</td>\n    </tr>\n  </tbody>\n</table>\n</div>"
     },
     "metadata": {},
     "execution_count": 257
    }
   ],
   "source": [
    "weather.head(20)"
   ]
  },
  {
   "cell_type": "code",
   "execution_count": 256,
   "metadata": {},
   "outputs": [
    {
     "output_type": "execute_result",
     "data": {
      "text/plain": [
       "   year  month  day dep_time  sched_dep_time dep_delay arr_time  \\\n",
       "0  2013      1    1      517             515         2      830   \n",
       "1  2013      1    1      533             529         4      850   \n",
       "2  2013      1    1      542             540         2      923   \n",
       "3  2013      1    1      544             545        -1     1004   \n",
       "4  2013      1    1      554             600        -6      812   \n",
       "\n",
       "   sched_arr_time arr_delay carrier  flight tailnum origin dest air_time  \\\n",
       "0             819        11      UA    1545  N14228    EWR  IAH      227   \n",
       "1             830        20      UA    1714  N24211    LGA  IAH      227   \n",
       "2             850        33      AA    1141  N619AA    JFK  MIA      160   \n",
       "3            1022       -18      B6     725  N804JB    JFK  BQN      183   \n",
       "4             837       -25      DL     461  N668DN    LGA  ATL      116   \n",
       "\n",
       "   distance  hour  minute             time_hour  \n",
       "0      1400     5      15  2013-01-01T05:00:00Z  \n",
       "1      1416     5      29  2013-01-01T05:00:00Z  \n",
       "2      1089     5      40  2013-01-01T05:00:00Z  \n",
       "3      1576     5      45  2013-01-01T05:00:00Z  \n",
       "4       762     6       0  2013-01-01T06:00:00Z  "
      ],
      "text/html": "<div>\n<style scoped>\n    .dataframe tbody tr th:only-of-type {\n        vertical-align: middle;\n    }\n\n    .dataframe tbody tr th {\n        vertical-align: top;\n    }\n\n    .dataframe thead th {\n        text-align: right;\n    }\n</style>\n<table border=\"1\" class=\"dataframe\">\n  <thead>\n    <tr style=\"text-align: right;\">\n      <th></th>\n      <th>year</th>\n      <th>month</th>\n      <th>day</th>\n      <th>dep_time</th>\n      <th>sched_dep_time</th>\n      <th>dep_delay</th>\n      <th>arr_time</th>\n      <th>sched_arr_time</th>\n      <th>arr_delay</th>\n      <th>carrier</th>\n      <th>flight</th>\n      <th>tailnum</th>\n      <th>origin</th>\n      <th>dest</th>\n      <th>air_time</th>\n      <th>distance</th>\n      <th>hour</th>\n      <th>minute</th>\n      <th>time_hour</th>\n    </tr>\n  </thead>\n  <tbody>\n    <tr>\n      <th>0</th>\n      <td>2013</td>\n      <td>1</td>\n      <td>1</td>\n      <td>517</td>\n      <td>515</td>\n      <td>2</td>\n      <td>830</td>\n      <td>819</td>\n      <td>11</td>\n      <td>UA</td>\n      <td>1545</td>\n      <td>N14228</td>\n      <td>EWR</td>\n      <td>IAH</td>\n      <td>227</td>\n      <td>1400</td>\n      <td>5</td>\n      <td>15</td>\n      <td>2013-01-01T05:00:00Z</td>\n    </tr>\n    <tr>\n      <th>1</th>\n      <td>2013</td>\n      <td>1</td>\n      <td>1</td>\n      <td>533</td>\n      <td>529</td>\n      <td>4</td>\n      <td>850</td>\n      <td>830</td>\n      <td>20</td>\n      <td>UA</td>\n      <td>1714</td>\n      <td>N24211</td>\n      <td>LGA</td>\n      <td>IAH</td>\n      <td>227</td>\n      <td>1416</td>\n      <td>5</td>\n      <td>29</td>\n      <td>2013-01-01T05:00:00Z</td>\n    </tr>\n    <tr>\n      <th>2</th>\n      <td>2013</td>\n      <td>1</td>\n      <td>1</td>\n      <td>542</td>\n      <td>540</td>\n      <td>2</td>\n      <td>923</td>\n      <td>850</td>\n      <td>33</td>\n      <td>AA</td>\n      <td>1141</td>\n      <td>N619AA</td>\n      <td>JFK</td>\n      <td>MIA</td>\n      <td>160</td>\n      <td>1089</td>\n      <td>5</td>\n      <td>40</td>\n      <td>2013-01-01T05:00:00Z</td>\n    </tr>\n    <tr>\n      <th>3</th>\n      <td>2013</td>\n      <td>1</td>\n      <td>1</td>\n      <td>544</td>\n      <td>545</td>\n      <td>-1</td>\n      <td>1004</td>\n      <td>1022</td>\n      <td>-18</td>\n      <td>B6</td>\n      <td>725</td>\n      <td>N804JB</td>\n      <td>JFK</td>\n      <td>BQN</td>\n      <td>183</td>\n      <td>1576</td>\n      <td>5</td>\n      <td>45</td>\n      <td>2013-01-01T05:00:00Z</td>\n    </tr>\n    <tr>\n      <th>4</th>\n      <td>2013</td>\n      <td>1</td>\n      <td>1</td>\n      <td>554</td>\n      <td>600</td>\n      <td>-6</td>\n      <td>812</td>\n      <td>837</td>\n      <td>-25</td>\n      <td>DL</td>\n      <td>461</td>\n      <td>N668DN</td>\n      <td>LGA</td>\n      <td>ATL</td>\n      <td>116</td>\n      <td>762</td>\n      <td>6</td>\n      <td>0</td>\n      <td>2013-01-01T06:00:00Z</td>\n    </tr>\n  </tbody>\n</table>\n</div>"
     },
     "metadata": {},
     "execution_count": 256
    }
   ],
   "source": [
    "flights.head()"
   ]
  },
  {
   "cell_type": "code",
   "execution_count": null,
   "metadata": {},
   "outputs": [],
   "source": [
    "flights[['month', 'year', 'day', 'hour', 'origin']] # dep_time get hour -- hour :: groupby(\"month\",\"jour\",\"hour\",\"origin\")"
   ]
  },
  {
   "cell_type": "code",
   "execution_count": null,
   "metadata": {},
   "outputs": [],
   "source": [
    "5--"
   ]
  },
  {
   "cell_type": "code",
   "execution_count": null,
   "metadata": {},
   "outputs": [],
   "source": [
    "dest_per_carrier = flights.groupby(\"carrier\")[\"dest\"].count()"
   ]
  },
  {
   "cell_type": "code",
   "execution_count": null,
   "metadata": {},
   "outputs": [],
   "source": [
    "origin_per_carrier = flights.groupby(\"carrier\")[\"origin\"].count()"
   ]
  },
  {
   "cell_type": "code",
   "execution_count": null,
   "metadata": {},
   "outputs": [],
   "source": [
    "dest_per_carrier.plot()"
   ]
  },
  {
   "cell_type": "code",
   "execution_count": null,
   "metadata": {},
   "outputs": [],
   "source": [
    "origin_per_carrier.plot()"
   ]
  },
  {
   "cell_type": "code",
   "execution_count": null,
   "metadata": {},
   "outputs": [],
   "source": [
    "4 --"
   ]
  },
  {
   "cell_type": "code",
   "execution_count": null,
   "metadata": {},
   "outputs": [],
   "source": [
    "flights[\"origin\"].value_counts()"
   ]
  },
  {
   "cell_type": "code",
   "execution_count": null,
   "metadata": {},
   "outputs": [],
   "source": [
    "flights[\"dest\"].value_counts().head(10)"
   ]
  },
  {
   "cell_type": "code",
   "execution_count": null,
   "metadata": {},
   "outputs": [],
   "source": [
    "flights[\"dest\"].value_counts(ascending=True).head(10)"
   ]
  },
  {
   "cell_type": "code",
   "execution_count": 232,
   "metadata": {},
   "outputs": [
    {
     "output_type": "execute_result",
     "data": {
      "text/plain": [
       "tailnum\n",
       "          2512\n",
       "N725MQ     575\n",
       "N722MQ     513\n",
       "N723MQ     507\n",
       "N711MQ     486\n",
       "          ... \n",
       "N661UA       1\n",
       "N837AW       1\n",
       "N836AW       1\n",
       "N835MH       1\n",
       "N820AW       1\n",
       "Name: origin, Length: 4044, dtype: int64"
      ]
     },
     "metadata": {},
     "execution_count": 232
    }
   ],
   "source": [
    "flights.groupby(\"tailnum\")[\"origin\"].count().sort_values(ascending=False)"
   ]
  },
  {
   "cell_type": "code",
   "execution_count": 263,
   "metadata": {},
   "outputs": [
    {
     "output_type": "execute_result",
     "data": {
      "text/plain": [
       "        year  month  day dep_time  sched_dep_time dep_delay arr_time  \\\n",
       "1782    2013      1    2                     1545                      \n",
       "1784    2013      1    2                     1601                      \n",
       "2697    2013      1    3                      857                      \n",
       "2698    2013      1    3                      645                      \n",
       "3608    2013      1    4                      845                      \n",
       "...      ...    ...  ...      ...             ...       ...      ...   \n",
       "334186  2013      9   27                     1600                      \n",
       "334868  2013      9   28                     1635                      \n",
       "335782  2013      9   29                      700                      \n",
       "336771  2013      9   30                     1455                      \n",
       "336772  2013      9   30                     2200                      \n",
       "\n",
       "        sched_arr_time arr_delay carrier  flight tailnum origin dest air_time  \\\n",
       "1782              1910                AA     133            JFK  LAX            \n",
       "1784              1735                UA     623            EWR  ORD            \n",
       "2697              1209                UA     714            EWR  MIA            \n",
       "2698               952                UA     719            EWR  DFW            \n",
       "3608              1015                9E    3405            JFK  DCA            \n",
       "...                ...       ...     ...     ...     ...    ...  ...      ...   \n",
       "334186            1739                UA     269            LGA  ORD            \n",
       "334868            1827                US     581            EWR  CLT            \n",
       "335782             833                UA     331            LGA  ORD            \n",
       "336771            1634                9E    3393            JFK  DCA            \n",
       "336772            2312                9E    3525            LGA  SYR            \n",
       "\n",
       "        distance  hour  minute             time_hour  \n",
       "1782        2475    15      45  2013-01-02T15:00:00Z  \n",
       "1784         719    16       1  2013-01-02T16:00:00Z  \n",
       "2697        1085     8      57  2013-01-03T08:00:00Z  \n",
       "2698        1372     6      45  2013-01-03T06:00:00Z  \n",
       "3608         213     8      45  2013-01-04T08:00:00Z  \n",
       "...          ...   ...     ...                   ...  \n",
       "334186       733    16       0  2013-09-27T16:00:00Z  \n",
       "334868       529    16      35  2013-09-28T16:00:00Z  \n",
       "335782       733     7       0  2013-09-29T07:00:00Z  \n",
       "336771       213    14      55  2013-09-30T14:00:00Z  \n",
       "336772       198    22       0  2013-09-30T22:00:00Z  \n",
       "\n",
       "[2512 rows x 19 columns]"
      ],
      "text/html": "<div>\n<style scoped>\n    .dataframe tbody tr th:only-of-type {\n        vertical-align: middle;\n    }\n\n    .dataframe tbody tr th {\n        vertical-align: top;\n    }\n\n    .dataframe thead th {\n        text-align: right;\n    }\n</style>\n<table border=\"1\" class=\"dataframe\">\n  <thead>\n    <tr style=\"text-align: right;\">\n      <th></th>\n      <th>year</th>\n      <th>month</th>\n      <th>day</th>\n      <th>dep_time</th>\n      <th>sched_dep_time</th>\n      <th>dep_delay</th>\n      <th>arr_time</th>\n      <th>sched_arr_time</th>\n      <th>arr_delay</th>\n      <th>carrier</th>\n      <th>flight</th>\n      <th>tailnum</th>\n      <th>origin</th>\n      <th>dest</th>\n      <th>air_time</th>\n      <th>distance</th>\n      <th>hour</th>\n      <th>minute</th>\n      <th>time_hour</th>\n    </tr>\n  </thead>\n  <tbody>\n    <tr>\n      <th>1782</th>\n      <td>2013</td>\n      <td>1</td>\n      <td>2</td>\n      <td></td>\n      <td>1545</td>\n      <td></td>\n      <td></td>\n      <td>1910</td>\n      <td></td>\n      <td>AA</td>\n      <td>133</td>\n      <td></td>\n      <td>JFK</td>\n      <td>LAX</td>\n      <td></td>\n      <td>2475</td>\n      <td>15</td>\n      <td>45</td>\n      <td>2013-01-02T15:00:00Z</td>\n    </tr>\n    <tr>\n      <th>1784</th>\n      <td>2013</td>\n      <td>1</td>\n      <td>2</td>\n      <td></td>\n      <td>1601</td>\n      <td></td>\n      <td></td>\n      <td>1735</td>\n      <td></td>\n      <td>UA</td>\n      <td>623</td>\n      <td></td>\n      <td>EWR</td>\n      <td>ORD</td>\n      <td></td>\n      <td>719</td>\n      <td>16</td>\n      <td>1</td>\n      <td>2013-01-02T16:00:00Z</td>\n    </tr>\n    <tr>\n      <th>2697</th>\n      <td>2013</td>\n      <td>1</td>\n      <td>3</td>\n      <td></td>\n      <td>857</td>\n      <td></td>\n      <td></td>\n      <td>1209</td>\n      <td></td>\n      <td>UA</td>\n      <td>714</td>\n      <td></td>\n      <td>EWR</td>\n      <td>MIA</td>\n      <td></td>\n      <td>1085</td>\n      <td>8</td>\n      <td>57</td>\n      <td>2013-01-03T08:00:00Z</td>\n    </tr>\n    <tr>\n      <th>2698</th>\n      <td>2013</td>\n      <td>1</td>\n      <td>3</td>\n      <td></td>\n      <td>645</td>\n      <td></td>\n      <td></td>\n      <td>952</td>\n      <td></td>\n      <td>UA</td>\n      <td>719</td>\n      <td></td>\n      <td>EWR</td>\n      <td>DFW</td>\n      <td></td>\n      <td>1372</td>\n      <td>6</td>\n      <td>45</td>\n      <td>2013-01-03T06:00:00Z</td>\n    </tr>\n    <tr>\n      <th>3608</th>\n      <td>2013</td>\n      <td>1</td>\n      <td>4</td>\n      <td></td>\n      <td>845</td>\n      <td></td>\n      <td></td>\n      <td>1015</td>\n      <td></td>\n      <td>9E</td>\n      <td>3405</td>\n      <td></td>\n      <td>JFK</td>\n      <td>DCA</td>\n      <td></td>\n      <td>213</td>\n      <td>8</td>\n      <td>45</td>\n      <td>2013-01-04T08:00:00Z</td>\n    </tr>\n    <tr>\n      <th>...</th>\n      <td>...</td>\n      <td>...</td>\n      <td>...</td>\n      <td>...</td>\n      <td>...</td>\n      <td>...</td>\n      <td>...</td>\n      <td>...</td>\n      <td>...</td>\n      <td>...</td>\n      <td>...</td>\n      <td>...</td>\n      <td>...</td>\n      <td>...</td>\n      <td>...</td>\n      <td>...</td>\n      <td>...</td>\n      <td>...</td>\n      <td>...</td>\n    </tr>\n    <tr>\n      <th>334186</th>\n      <td>2013</td>\n      <td>9</td>\n      <td>27</td>\n      <td></td>\n      <td>1600</td>\n      <td></td>\n      <td></td>\n      <td>1739</td>\n      <td></td>\n      <td>UA</td>\n      <td>269</td>\n      <td></td>\n      <td>LGA</td>\n      <td>ORD</td>\n      <td></td>\n      <td>733</td>\n      <td>16</td>\n      <td>0</td>\n      <td>2013-09-27T16:00:00Z</td>\n    </tr>\n    <tr>\n      <th>334868</th>\n      <td>2013</td>\n      <td>9</td>\n      <td>28</td>\n      <td></td>\n      <td>1635</td>\n      <td></td>\n      <td></td>\n      <td>1827</td>\n      <td></td>\n      <td>US</td>\n      <td>581</td>\n      <td></td>\n      <td>EWR</td>\n      <td>CLT</td>\n      <td></td>\n      <td>529</td>\n      <td>16</td>\n      <td>35</td>\n      <td>2013-09-28T16:00:00Z</td>\n    </tr>\n    <tr>\n      <th>335782</th>\n      <td>2013</td>\n      <td>9</td>\n      <td>29</td>\n      <td></td>\n      <td>700</td>\n      <td></td>\n      <td></td>\n      <td>833</td>\n      <td></td>\n      <td>UA</td>\n      <td>331</td>\n      <td></td>\n      <td>LGA</td>\n      <td>ORD</td>\n      <td></td>\n      <td>733</td>\n      <td>7</td>\n      <td>0</td>\n      <td>2013-09-29T07:00:00Z</td>\n    </tr>\n    <tr>\n      <th>336771</th>\n      <td>2013</td>\n      <td>9</td>\n      <td>30</td>\n      <td></td>\n      <td>1455</td>\n      <td></td>\n      <td></td>\n      <td>1634</td>\n      <td></td>\n      <td>9E</td>\n      <td>3393</td>\n      <td></td>\n      <td>JFK</td>\n      <td>DCA</td>\n      <td></td>\n      <td>213</td>\n      <td>14</td>\n      <td>55</td>\n      <td>2013-09-30T14:00:00Z</td>\n    </tr>\n    <tr>\n      <th>336772</th>\n      <td>2013</td>\n      <td>9</td>\n      <td>30</td>\n      <td></td>\n      <td>2200</td>\n      <td></td>\n      <td></td>\n      <td>2312</td>\n      <td></td>\n      <td>9E</td>\n      <td>3525</td>\n      <td></td>\n      <td>LGA</td>\n      <td>SYR</td>\n      <td></td>\n      <td>198</td>\n      <td>22</td>\n      <td>0</td>\n      <td>2013-09-30T22:00:00Z</td>\n    </tr>\n  </tbody>\n</table>\n<p>2512 rows × 19 columns</p>\n</div>"
     },
     "metadata": {},
     "execution_count": 263
    }
   ],
   "source": [
    "flights[flights[\"tailnum\"] == \" \"] ## PROBLEEEEEEEMMMMMOOOOOOOOOOOOOOOXXXX 2512 flights sans tailnum et autre"
   ]
  },
  {
   "cell_type": "code",
   "execution_count": null,
   "metadata": {},
   "outputs": [],
   "source": [
    "3--"
   ]
  },
  {
   "cell_type": "code",
   "execution_count": null,
   "metadata": {},
   "outputs": [],
   "source": [
    "airports[\"tzone\"][airports[\"dst\"] == \"N\"].nunique()"
   ]
  },
  {
   "cell_type": "code",
   "execution_count": null,
   "metadata": {},
   "outputs": [],
   "source": [
    "#### REGEX"
   ]
  },
  {
   "cell_type": "code",
   "execution_count": 264,
   "metadata": {},
   "outputs": [
    {
     "output_type": "execute_result",
     "data": {
      "text/plain": [
       "   faa                           name        lat        lon   alt  tz dst  \\\n",
       "0  04G              Lansdowne Airport  41.130472 -80.619583  1044  -5   A   \n",
       "1  06A  Moton Field Municipal Airport  32.460572 -85.680028   264  -6   A   \n",
       "2  06C            Schaumburg Regional  41.989341 -88.101243   801  -6   A   \n",
       "3  06N                Randall Airport  41.431912 -74.391561   523  -5   A   \n",
       "4  09J          Jekyll Island Airport  31.074472 -81.427778    11  -5   A   \n",
       "\n",
       "              tzone  \n",
       "0  America/New_York  \n",
       "1   America/Chicago  \n",
       "2   America/Chicago  \n",
       "3  America/New_York  \n",
       "4  America/New_York  "
      ],
      "text/html": "<div>\n<style scoped>\n    .dataframe tbody tr th:only-of-type {\n        vertical-align: middle;\n    }\n\n    .dataframe tbody tr th {\n        vertical-align: top;\n    }\n\n    .dataframe thead th {\n        text-align: right;\n    }\n</style>\n<table border=\"1\" class=\"dataframe\">\n  <thead>\n    <tr style=\"text-align: right;\">\n      <th></th>\n      <th>faa</th>\n      <th>name</th>\n      <th>lat</th>\n      <th>lon</th>\n      <th>alt</th>\n      <th>tz</th>\n      <th>dst</th>\n      <th>tzone</th>\n    </tr>\n  </thead>\n  <tbody>\n    <tr>\n      <th>0</th>\n      <td>04G</td>\n      <td>Lansdowne Airport</td>\n      <td>41.130472</td>\n      <td>-80.619583</td>\n      <td>1044</td>\n      <td>-5</td>\n      <td>A</td>\n      <td>America/New_York</td>\n    </tr>\n    <tr>\n      <th>1</th>\n      <td>06A</td>\n      <td>Moton Field Municipal Airport</td>\n      <td>32.460572</td>\n      <td>-85.680028</td>\n      <td>264</td>\n      <td>-6</td>\n      <td>A</td>\n      <td>America/Chicago</td>\n    </tr>\n    <tr>\n      <th>2</th>\n      <td>06C</td>\n      <td>Schaumburg Regional</td>\n      <td>41.989341</td>\n      <td>-88.101243</td>\n      <td>801</td>\n      <td>-6</td>\n      <td>A</td>\n      <td>America/Chicago</td>\n    </tr>\n    <tr>\n      <th>3</th>\n      <td>06N</td>\n      <td>Randall Airport</td>\n      <td>41.431912</td>\n      <td>-74.391561</td>\n      <td>523</td>\n      <td>-5</td>\n      <td>A</td>\n      <td>America/New_York</td>\n    </tr>\n    <tr>\n      <th>4</th>\n      <td>09J</td>\n      <td>Jekyll Island Airport</td>\n      <td>31.074472</td>\n      <td>-81.427778</td>\n      <td>11</td>\n      <td>-5</td>\n      <td>A</td>\n      <td>America/New_York</td>\n    </tr>\n  </tbody>\n</table>\n</div>"
     },
     "metadata": {},
     "execution_count": 264
    }
   ],
   "source": [
    "airports.head()"
   ]
  },
  {
   "cell_type": "code",
   "execution_count": 267,
   "metadata": {},
   "outputs": [
    {
     "output_type": "execute_result",
     "data": {
      "text/plain": [
       "(336776, 19)"
      ]
     },
     "metadata": {},
     "execution_count": 267
    }
   ],
   "source": [
    "flights.shape"
   ]
  },
  {
   "cell_type": "code",
   "execution_count": 280,
   "metadata": {},
   "outputs": [
    {
     "output_type": "execute_result",
     "data": {
      "text/plain": [
       "True"
      ]
     },
     "metadata": {},
     "execution_count": 280
    }
   ],
   "source": [
    "airports.faa.str.match('^[A-Z0-9]{3}$').any(axis=0) # [A-Z0-9]{3}"
   ]
  },
  {
   "cell_type": "code",
   "execution_count": null,
   "metadata": {},
   "outputs": [],
   "source": []
  }
 ],
 "metadata": {
  "kernelspec": {
   "display_name": "Python 3",
   "language": "python",
   "name": "python3"
  },
  "language_info": {
   "codemirror_mode": {
    "name": "ipython",
    "version": 3
   },
   "file_extension": ".py",
   "mimetype": "text/x-python",
   "name": "python",
   "nbconvert_exporter": "python",
   "pygments_lexer": "ipython3",
   "version": "3.8.3-final"
  }
 },
 "nbformat": 4,
 "nbformat_minor": 4
}