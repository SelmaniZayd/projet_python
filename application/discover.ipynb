{
 "cells": [
  {
   "cell_type": "code",
   "execution_count": 1,
   "metadata": {},
   "outputs": [],
   "source": [
    "import os\n",
    "import pandas as pd"
   ]
  },
  {
   "cell_type": "code",
   "execution_count": 2,
   "metadata": {},
   "outputs": [],
   "source": [
    "airlines = pd.read_csv('files/airlines.csv')\n",
    "flights = pd.read_csv('files/flights.csv')\n",
    "planes = pd.read_csv('files/planes.csv')\n",
    "weather = pd.read_csv('files/weather.csv')\n",
    "airports = pd.read_csv('files/airports.csv')"
   ]
  },
  {
   "cell_type": "code",
   "execution_count": null,
   "metadata": {},
   "outputs": [],
   "source": [
    "airports.faa.value_counts() # 1458"
   ]
  },
  {
   "cell_type": "code",
   "execution_count": null,
   "metadata": {},
   "outputs": [],
   "source": [
    "# Composite PK is : year, month, dat, hour, origin"
   ]
  },
  {
   "cell_type": "code",
   "execution_count": null,
   "metadata": {},
   "outputs": [],
   "source": [
    "weather.shape # 26 130"
   ]
  },
  {
   "cell_type": "code",
   "execution_count": null,
   "metadata": {},
   "outputs": [],
   "source": [
    "weather[['year', 'month', 'day', 'hour','origin']].drop_duplicates() # 26 130"
   ]
  },
  {
   "cell_type": "code",
   "execution_count": null,
   "metadata": {},
   "outputs": [],
   "source": [
    "# flights can't have composite pk with date and origin or tailnum"
   ]
  },
  {
   "cell_type": "code",
   "execution_count": null,
   "metadata": {},
   "outputs": [],
   "source": [
    "flights.shape # 336 776"
   ]
  },
  {
   "cell_type": "code",
   "execution_count": null,
   "metadata": {},
   "outputs": [],
   "source": [
    "flights[['year', 'month', 'day', 'hour','origin']].drop_duplicates() # 19486"
   ]
  },
  {
   "cell_type": "code",
   "execution_count": null,
   "metadata": {},
   "outputs": [],
   "source": [
    "flights[['year', 'month', 'day', 'hour','origin', 'tailnum']].drop_duplicates() # 335592"
   ]
  },
  {
   "cell_type": "code",
   "execution_count": null,
   "metadata": {},
   "outputs": [],
   "source": [
    "Les problèmes : "
   ]
  },
  {
   "cell_type": "code",
   "execution_count": null,
   "metadata": {},
   "outputs": [],
   "source": [
    "# Problème 1 : Aeroport dans flight mais non dans aeroport"
   ]
  },
  {
   "cell_type": "code",
   "execution_count": 249,
   "metadata": {},
   "outputs": [
    {
     "output_type": "execute_result",
     "data": {
      "text/plain": [
       "3      BQN\n",
       "28     SJU\n",
       "178    STT\n",
       "835    PSE\n",
       "Name: dest, dtype: object"
      ]
     },
     "metadata": {},
     "execution_count": 249
    }
   ],
   "source": [
    "pb1a = flights['dest'][~flights['dest'].isin(airports['faa'])]\n",
    "pb1a.drop_duplicates()\n",
    "# insert les lignes manquantes"
   ]
  },
  {
   "cell_type": "code",
   "execution_count": 19,
   "metadata": {},
   "outputs": [
    {
     "output_type": "execute_result",
     "data": {
      "text/plain": [
       "167     America/Phoenix\n",
       "406      America/Denver\n",
       "600    Pacific/Honolulu\n",
       "898    America/New_York\n",
       "Name: tzone, dtype: object"
      ]
     },
     "metadata": {},
     "execution_count": 19
    }
   ],
   "source": [
    "airports.tzone[airports.dst == \"N\"].drop_duplicates()"
   ]
  },
  {
   "cell_type": "code",
   "execution_count": null,
   "metadata": {},
   "outputs": [],
   "source": [
    "pb1b = flights['origin'][~flights['origin'].isin(airports['faa'])]\n",
    "pb1b"
   ]
  },
  {
   "cell_type": "code",
   "execution_count": null,
   "metadata": {},
   "outputs": [],
   "source": [
    "# Problème 2: des planes dans flights mais non existante dans planes "
   ]
  },
  {
   "cell_type": "code",
   "execution_count": 20,
   "metadata": {},
   "outputs": [
    {
     "output_type": "execute_result",
     "data": {
      "text/plain": [
       "9         N3ALAA\n",
       "14        N3DUAA\n",
       "18        N542MQ\n",
       "21        N730MQ\n",
       "25        N9EAMQ\n",
       "           ...  \n",
       "266825    N823MQ\n",
       "290770    N5FCAA\n",
       "294243    N5ERAA\n",
       "302529    N654MQ\n",
       "324307    N647MQ\n",
       "Name: tailnum, Length: 722, dtype: object"
      ]
     },
     "metadata": {},
     "execution_count": 20
    }
   ],
   "source": [
    "pb2 = flights['tailnum'][~flights['tailnum'].isin(planes['tailnum'])]\n",
    "pb2.drop_duplicates()\n",
    "# insert les lignes manquantes !!!!!!"
   ]
  },
  {
   "cell_type": "code",
   "execution_count": null,
   "metadata": {},
   "outputs": [],
   "source": [
    "# Problème 3: données meteo dans flights mais pas dans weather !!"
   ]
  },
  {
   "cell_type": "code",
   "execution_count": 34,
   "metadata": {},
   "outputs": [
    {
     "output_type": "execute_result",
     "data": {
      "text/plain": [
       "       origin  year  month  day  hour\n",
       "0         EWR  2013      1    1     5\n",
       "1         LGA  2013      1    1     5\n",
       "2         JFK  2013      1    1     5\n",
       "47782     EWR  2013     10   23    10\n",
       "47835     EWR  2013     10   23    11\n",
       "...       ...   ...    ...  ...   ...\n",
       "297954    LGA  2013      8   19    21\n",
       "297964    JFK  2013      8   19    21\n",
       "297967    EWR  2013      8   19    21\n",
       "300936    JFK  2013      8   22    22\n",
       "310611    EWR  2013      9    2    20\n",
       "\n",
       "[81 rows x 5 columns]"
      ],
      "text/html": "<div>\n<style scoped>\n    .dataframe tbody tr th:only-of-type {\n        vertical-align: middle;\n    }\n\n    .dataframe tbody tr th {\n        vertical-align: top;\n    }\n\n    .dataframe thead th {\n        text-align: right;\n    }\n</style>\n<table border=\"1\" class=\"dataframe\">\n  <thead>\n    <tr style=\"text-align: right;\">\n      <th></th>\n      <th>origin</th>\n      <th>year</th>\n      <th>month</th>\n      <th>day</th>\n      <th>hour</th>\n    </tr>\n  </thead>\n  <tbody>\n    <tr>\n      <th>0</th>\n      <td>EWR</td>\n      <td>2013</td>\n      <td>1</td>\n      <td>1</td>\n      <td>5</td>\n    </tr>\n    <tr>\n      <th>1</th>\n      <td>LGA</td>\n      <td>2013</td>\n      <td>1</td>\n      <td>1</td>\n      <td>5</td>\n    </tr>\n    <tr>\n      <th>2</th>\n      <td>JFK</td>\n      <td>2013</td>\n      <td>1</td>\n      <td>1</td>\n      <td>5</td>\n    </tr>\n    <tr>\n      <th>47782</th>\n      <td>EWR</td>\n      <td>2013</td>\n      <td>10</td>\n      <td>23</td>\n      <td>10</td>\n    </tr>\n    <tr>\n      <th>47835</th>\n      <td>EWR</td>\n      <td>2013</td>\n      <td>10</td>\n      <td>23</td>\n      <td>11</td>\n    </tr>\n    <tr>\n      <th>...</th>\n      <td>...</td>\n      <td>...</td>\n      <td>...</td>\n      <td>...</td>\n      <td>...</td>\n    </tr>\n    <tr>\n      <th>297954</th>\n      <td>LGA</td>\n      <td>2013</td>\n      <td>8</td>\n      <td>19</td>\n      <td>21</td>\n    </tr>\n    <tr>\n      <th>297964</th>\n      <td>JFK</td>\n      <td>2013</td>\n      <td>8</td>\n      <td>19</td>\n      <td>21</td>\n    </tr>\n    <tr>\n      <th>297967</th>\n      <td>EWR</td>\n      <td>2013</td>\n      <td>8</td>\n      <td>19</td>\n      <td>21</td>\n    </tr>\n    <tr>\n      <th>300936</th>\n      <td>JFK</td>\n      <td>2013</td>\n      <td>8</td>\n      <td>22</td>\n      <td>22</td>\n    </tr>\n    <tr>\n      <th>310611</th>\n      <td>EWR</td>\n      <td>2013</td>\n      <td>9</td>\n      <td>2</td>\n      <td>20</td>\n    </tr>\n  </tbody>\n</table>\n<p>81 rows × 5 columns</p>\n</div>"
     },
     "metadata": {},
     "execution_count": 34
    }
   ],
   "source": [
    "merged = pd.merge(flights, weather, how='left', on=['origin','year','month','day', 'hour'])\n",
    "merged[['origin', 'year', 'month', 'day', 'hour']][merged.temp.isnull()].drop_duplicates()"
   ]
  },
  {
   "cell_type": "code",
   "execution_count": null,
   "metadata": {},
   "outputs": [],
   "source": [
    "5--"
   ]
  },
  {
   "cell_type": "code",
   "execution_count": null,
   "metadata": {},
   "outputs": [],
   "source": [
    "dest_per_carrier = flights.groupby(\"carrier\")[\"dest\"].count()"
   ]
  },
  {
   "cell_type": "code",
   "execution_count": null,
   "metadata": {},
   "outputs": [],
   "source": [
    "origin_per_carrier = flights.groupby(\"carrier\")[\"origin\"].count()"
   ]
  },
  {
   "cell_type": "code",
   "execution_count": null,
   "metadata": {},
   "outputs": [],
   "source": [
    "dest_per_carrier.plot()"
   ]
  },
  {
   "cell_type": "code",
   "execution_count": null,
   "metadata": {},
   "outputs": [],
   "source": [
    "origin_per_carrier.plot()"
   ]
  },
  {
   "cell_type": "code",
   "execution_count": null,
   "metadata": {},
   "outputs": [],
   "source": [
    "4 --"
   ]
  },
  {
   "cell_type": "code",
   "execution_count": null,
   "metadata": {},
   "outputs": [],
   "source": [
    "flights[\"origin\"].value_counts()"
   ]
  },
  {
   "cell_type": "code",
   "execution_count": null,
   "metadata": {},
   "outputs": [],
   "source": [
    "flights[\"dest\"].value_counts().head(10)"
   ]
  },
  {
   "cell_type": "code",
   "execution_count": null,
   "metadata": {},
   "outputs": [],
   "source": [
    "flights[\"dest\"].value_counts(ascending=True).head(10)"
   ]
  },
  {
   "cell_type": "code",
   "execution_count": 232,
   "metadata": {},
   "outputs": [
    {
     "output_type": "execute_result",
     "data": {
      "text/plain": [
       "tailnum\n",
       "          2512\n",
       "N725MQ     575\n",
       "N722MQ     513\n",
       "N723MQ     507\n",
       "N711MQ     486\n",
       "          ... \n",
       "N661UA       1\n",
       "N837AW       1\n",
       "N836AW       1\n",
       "N835MH       1\n",
       "N820AW       1\n",
       "Name: origin, Length: 4044, dtype: int64"
      ]
     },
     "metadata": {},
     "execution_count": 232
    }
   ],
   "source": [
    "flights.groupby(\"tailnum\")[\"origin\"].count().sort_values(ascending=False)"
   ]
  },
  {
   "cell_type": "code",
   "execution_count": 263,
   "metadata": {},
   "outputs": [
    {
     "output_type": "execute_result",
     "data": {
      "text/plain": [
       "        year  month  day dep_time  sched_dep_time dep_delay arr_time  \\\n",
       "1782    2013      1    2                     1545                      \n",
       "1784    2013      1    2                     1601                      \n",
       "2697    2013      1    3                      857                      \n",
       "2698    2013      1    3                      645                      \n",
       "3608    2013      1    4                      845                      \n",
       "...      ...    ...  ...      ...             ...       ...      ...   \n",
       "334186  2013      9   27                     1600                      \n",
       "334868  2013      9   28                     1635                      \n",
       "335782  2013      9   29                      700                      \n",
       "336771  2013      9   30                     1455                      \n",
       "336772  2013      9   30                     2200                      \n",
       "\n",
       "        sched_arr_time arr_delay carrier  flight tailnum origin dest air_time  \\\n",
       "1782              1910                AA     133            JFK  LAX            \n",
       "1784              1735                UA     623            EWR  ORD            \n",
       "2697              1209                UA     714            EWR  MIA            \n",
       "2698               952                UA     719            EWR  DFW            \n",
       "3608              1015                9E    3405            JFK  DCA            \n",
       "...                ...       ...     ...     ...     ...    ...  ...      ...   \n",
       "334186            1739                UA     269            LGA  ORD            \n",
       "334868            1827                US     581            EWR  CLT            \n",
       "335782             833                UA     331            LGA  ORD            \n",
       "336771            1634                9E    3393            JFK  DCA            \n",
       "336772            2312                9E    3525            LGA  SYR            \n",
       "\n",
       "        distance  hour  minute             time_hour  \n",
       "1782        2475    15      45  2013-01-02T15:00:00Z  \n",
       "1784         719    16       1  2013-01-02T16:00:00Z  \n",
       "2697        1085     8      57  2013-01-03T08:00:00Z  \n",
       "2698        1372     6      45  2013-01-03T06:00:00Z  \n",
       "3608         213     8      45  2013-01-04T08:00:00Z  \n",
       "...          ...   ...     ...                   ...  \n",
       "334186       733    16       0  2013-09-27T16:00:00Z  \n",
       "334868       529    16      35  2013-09-28T16:00:00Z  \n",
       "335782       733     7       0  2013-09-29T07:00:00Z  \n",
       "336771       213    14      55  2013-09-30T14:00:00Z  \n",
       "336772       198    22       0  2013-09-30T22:00:00Z  \n",
       "\n",
       "[2512 rows x 19 columns]"
      ],
      "text/html": "<div>\n<style scoped>\n    .dataframe tbody tr th:only-of-type {\n        vertical-align: middle;\n    }\n\n    .dataframe tbody tr th {\n        vertical-align: top;\n    }\n\n    .dataframe thead th {\n        text-align: right;\n    }\n</style>\n<table border=\"1\" class=\"dataframe\">\n  <thead>\n    <tr style=\"text-align: right;\">\n      <th></th>\n      <th>year</th>\n      <th>month</th>\n      <th>day</th>\n      <th>dep_time</th>\n      <th>sched_dep_time</th>\n      <th>dep_delay</th>\n      <th>arr_time</th>\n      <th>sched_arr_time</th>\n      <th>arr_delay</th>\n      <th>carrier</th>\n      <th>flight</th>\n      <th>tailnum</th>\n      <th>origin</th>\n      <th>dest</th>\n      <th>air_time</th>\n      <th>distance</th>\n      <th>hour</th>\n      <th>minute</th>\n      <th>time_hour</th>\n    </tr>\n  </thead>\n  <tbody>\n    <tr>\n      <th>1782</th>\n      <td>2013</td>\n      <td>1</td>\n      <td>2</td>\n      <td></td>\n      <td>1545</td>\n      <td></td>\n      <td></td>\n      <td>1910</td>\n      <td></td>\n      <td>AA</td>\n      <td>133</td>\n      <td></td>\n      <td>JFK</td>\n      <td>LAX</td>\n      <td></td>\n      <td>2475</td>\n      <td>15</td>\n      <td>45</td>\n      <td>2013-01-02T15:00:00Z</td>\n    </tr>\n    <tr>\n      <th>1784</th>\n      <td>2013</td>\n      <td>1</td>\n      <td>2</td>\n      <td></td>\n      <td>1601</td>\n      <td></td>\n      <td></td>\n      <td>1735</td>\n      <td></td>\n      <td>UA</td>\n      <td>623</td>\n      <td></td>\n      <td>EWR</td>\n      <td>ORD</td>\n      <td></td>\n      <td>719</td>\n      <td>16</td>\n      <td>1</td>\n      <td>2013-01-02T16:00:00Z</td>\n    </tr>\n    <tr>\n      <th>2697</th>\n      <td>2013</td>\n      <td>1</td>\n      <td>3</td>\n      <td></td>\n      <td>857</td>\n      <td></td>\n      <td></td>\n      <td>1209</td>\n      <td></td>\n      <td>UA</td>\n      <td>714</td>\n      <td></td>\n      <td>EWR</td>\n      <td>MIA</td>\n      <td></td>\n      <td>1085</td>\n      <td>8</td>\n      <td>57</td>\n      <td>2013-01-03T08:00:00Z</td>\n    </tr>\n    <tr>\n      <th>2698</th>\n      <td>2013</td>\n      <td>1</td>\n      <td>3</td>\n      <td></td>\n      <td>645</td>\n      <td></td>\n      <td></td>\n      <td>952</td>\n      <td></td>\n      <td>UA</td>\n      <td>719</td>\n      <td></td>\n      <td>EWR</td>\n      <td>DFW</td>\n      <td></td>\n      <td>1372</td>\n      <td>6</td>\n      <td>45</td>\n      <td>2013-01-03T06:00:00Z</td>\n    </tr>\n    <tr>\n      <th>3608</th>\n      <td>2013</td>\n      <td>1</td>\n      <td>4</td>\n      <td></td>\n      <td>845</td>\n      <td></td>\n      <td></td>\n      <td>1015</td>\n      <td></td>\n      <td>9E</td>\n      <td>3405</td>\n      <td></td>\n      <td>JFK</td>\n      <td>DCA</td>\n      <td></td>\n      <td>213</td>\n      <td>8</td>\n      <td>45</td>\n      <td>2013-01-04T08:00:00Z</td>\n    </tr>\n    <tr>\n      <th>...</th>\n      <td>...</td>\n      <td>...</td>\n      <td>...</td>\n      <td>...</td>\n      <td>...</td>\n      <td>...</td>\n      <td>...</td>\n      <td>...</td>\n      <td>...</td>\n      <td>...</td>\n      <td>...</td>\n      <td>...</td>\n      <td>...</td>\n      <td>...</td>\n      <td>...</td>\n      <td>...</td>\n      <td>...</td>\n      <td>...</td>\n      <td>...</td>\n    </tr>\n    <tr>\n      <th>334186</th>\n      <td>2013</td>\n      <td>9</td>\n      <td>27</td>\n      <td></td>\n      <td>1600</td>\n      <td></td>\n      <td></td>\n      <td>1739</td>\n      <td></td>\n      <td>UA</td>\n      <td>269</td>\n      <td></td>\n      <td>LGA</td>\n      <td>ORD</td>\n      <td></td>\n      <td>733</td>\n      <td>16</td>\n      <td>0</td>\n      <td>2013-09-27T16:00:00Z</td>\n    </tr>\n    <tr>\n      <th>334868</th>\n      <td>2013</td>\n      <td>9</td>\n      <td>28</td>\n      <td></td>\n      <td>1635</td>\n      <td></td>\n      <td></td>\n      <td>1827</td>\n      <td></td>\n      <td>US</td>\n      <td>581</td>\n      <td></td>\n      <td>EWR</td>\n      <td>CLT</td>\n      <td></td>\n      <td>529</td>\n      <td>16</td>\n      <td>35</td>\n      <td>2013-09-28T16:00:00Z</td>\n    </tr>\n    <tr>\n      <th>335782</th>\n      <td>2013</td>\n      <td>9</td>\n      <td>29</td>\n      <td></td>\n      <td>700</td>\n      <td></td>\n      <td></td>\n      <td>833</td>\n      <td></td>\n      <td>UA</td>\n      <td>331</td>\n      <td></td>\n      <td>LGA</td>\n      <td>ORD</td>\n      <td></td>\n      <td>733</td>\n      <td>7</td>\n      <td>0</td>\n      <td>2013-09-29T07:00:00Z</td>\n    </tr>\n    <tr>\n      <th>336771</th>\n      <td>2013</td>\n      <td>9</td>\n      <td>30</td>\n      <td></td>\n      <td>1455</td>\n      <td></td>\n      <td></td>\n      <td>1634</td>\n      <td></td>\n      <td>9E</td>\n      <td>3393</td>\n      <td></td>\n      <td>JFK</td>\n      <td>DCA</td>\n      <td></td>\n      <td>213</td>\n      <td>14</td>\n      <td>55</td>\n      <td>2013-09-30T14:00:00Z</td>\n    </tr>\n    <tr>\n      <th>336772</th>\n      <td>2013</td>\n      <td>9</td>\n      <td>30</td>\n      <td></td>\n      <td>2200</td>\n      <td></td>\n      <td></td>\n      <td>2312</td>\n      <td></td>\n      <td>9E</td>\n      <td>3525</td>\n      <td></td>\n      <td>LGA</td>\n      <td>SYR</td>\n      <td></td>\n      <td>198</td>\n      <td>22</td>\n      <td>0</td>\n      <td>2013-09-30T22:00:00Z</td>\n    </tr>\n  </tbody>\n</table>\n<p>2512 rows × 19 columns</p>\n</div>"
     },
     "metadata": {},
     "execution_count": 263
    }
   ],
   "source": [
    "flights[flights[\"tailnum\"] == \" \"] ## PROBLEEEEEEEMMMMMOOOOOOOOOOOOOOOXXXX 2512 flights sans tailnum et autre"
   ]
  },
  {
   "cell_type": "code",
   "execution_count": null,
   "metadata": {},
   "outputs": [],
   "source": [
    "3--"
   ]
  },
  {
   "cell_type": "code",
   "execution_count": null,
   "metadata": {},
   "outputs": [],
   "source": [
    "airports[\"tzone\"][airports[\"dst\"] == \"N\"].nunique()"
   ]
  },
  {
   "cell_type": "code",
   "execution_count": null,
   "metadata": {},
   "outputs": [],
   "source": [
    "#### REGEX"
   ]
  },
  {
   "cell_type": "code",
   "execution_count": 22,
   "metadata": {},
   "outputs": [
    {
     "output_type": "execute_result",
     "data": {
      "text/plain": [
       "  origin  year  month  day  hour   temp   dewp  humid wind_dir  \\\n",
       "0    EWR  2013      1    1     0  37.04  21.92  53.97      230   \n",
       "1    EWR  2013      1    1     1  37.04  21.92  53.97      230   \n",
       "2    EWR  2013      1    1     2  37.94  21.92  52.09      230   \n",
       "3    EWR  2013      1    1     3  37.94     23  54.51      230   \n",
       "4    EWR  2013      1    1     4  37.94  24.08  57.04      240   \n",
       "\n",
       "           wind_speed           wind_gust  precip pressure  visib  \\\n",
       "0  10.357019999999999  11.918651475599997     0.0   1013.9   10.0   \n",
       "1  13.809359999999998  15.891535300799996     0.0     1013   10.0   \n",
       "2  12.658579999999999  14.567240692399997     0.0   1012.6   10.0   \n",
       "3  13.809359999999998  15.891535300799996     0.0   1012.7   10.0   \n",
       "4  14.960139999999999  17.215829909199996     0.0   1012.8   10.0   \n",
       "\n",
       "              time_hour  \n",
       "0  2013-01-01T00:00:00Z  \n",
       "1  2013-01-01T01:00:00Z  \n",
       "2  2013-01-01T02:00:00Z  \n",
       "3  2013-01-01T03:00:00Z  \n",
       "4  2013-01-01T04:00:00Z  "
      ],
      "text/html": "<div>\n<style scoped>\n    .dataframe tbody tr th:only-of-type {\n        vertical-align: middle;\n    }\n\n    .dataframe tbody tr th {\n        vertical-align: top;\n    }\n\n    .dataframe thead th {\n        text-align: right;\n    }\n</style>\n<table border=\"1\" class=\"dataframe\">\n  <thead>\n    <tr style=\"text-align: right;\">\n      <th></th>\n      <th>origin</th>\n      <th>year</th>\n      <th>month</th>\n      <th>day</th>\n      <th>hour</th>\n      <th>temp</th>\n      <th>dewp</th>\n      <th>humid</th>\n      <th>wind_dir</th>\n      <th>wind_speed</th>\n      <th>wind_gust</th>\n      <th>precip</th>\n      <th>pressure</th>\n      <th>visib</th>\n      <th>time_hour</th>\n    </tr>\n  </thead>\n  <tbody>\n    <tr>\n      <th>0</th>\n      <td>EWR</td>\n      <td>2013</td>\n      <td>1</td>\n      <td>1</td>\n      <td>0</td>\n      <td>37.04</td>\n      <td>21.92</td>\n      <td>53.97</td>\n      <td>230</td>\n      <td>10.357019999999999</td>\n      <td>11.918651475599997</td>\n      <td>0.0</td>\n      <td>1013.9</td>\n      <td>10.0</td>\n      <td>2013-01-01T00:00:00Z</td>\n    </tr>\n    <tr>\n      <th>1</th>\n      <td>EWR</td>\n      <td>2013</td>\n      <td>1</td>\n      <td>1</td>\n      <td>1</td>\n      <td>37.04</td>\n      <td>21.92</td>\n      <td>53.97</td>\n      <td>230</td>\n      <td>13.809359999999998</td>\n      <td>15.891535300799996</td>\n      <td>0.0</td>\n      <td>1013</td>\n      <td>10.0</td>\n      <td>2013-01-01T01:00:00Z</td>\n    </tr>\n    <tr>\n      <th>2</th>\n      <td>EWR</td>\n      <td>2013</td>\n      <td>1</td>\n      <td>1</td>\n      <td>2</td>\n      <td>37.94</td>\n      <td>21.92</td>\n      <td>52.09</td>\n      <td>230</td>\n      <td>12.658579999999999</td>\n      <td>14.567240692399997</td>\n      <td>0.0</td>\n      <td>1012.6</td>\n      <td>10.0</td>\n      <td>2013-01-01T02:00:00Z</td>\n    </tr>\n    <tr>\n      <th>3</th>\n      <td>EWR</td>\n      <td>2013</td>\n      <td>1</td>\n      <td>1</td>\n      <td>3</td>\n      <td>37.94</td>\n      <td>23</td>\n      <td>54.51</td>\n      <td>230</td>\n      <td>13.809359999999998</td>\n      <td>15.891535300799996</td>\n      <td>0.0</td>\n      <td>1012.7</td>\n      <td>10.0</td>\n      <td>2013-01-01T03:00:00Z</td>\n    </tr>\n    <tr>\n      <th>4</th>\n      <td>EWR</td>\n      <td>2013</td>\n      <td>1</td>\n      <td>1</td>\n      <td>4</td>\n      <td>37.94</td>\n      <td>24.08</td>\n      <td>57.04</td>\n      <td>240</td>\n      <td>14.960139999999999</td>\n      <td>17.215829909199996</td>\n      <td>0.0</td>\n      <td>1012.8</td>\n      <td>10.0</td>\n      <td>2013-01-01T04:00:00Z</td>\n    </tr>\n  </tbody>\n</table>\n</div>"
     },
     "metadata": {},
     "execution_count": 22
    }
   ],
   "source": [
    "weather.head()"
   ]
  },
  {
   "cell_type": "code",
   "execution_count": 267,
   "metadata": {},
   "outputs": [
    {
     "output_type": "execute_result",
     "data": {
      "text/plain": [
       "(336776, 19)"
      ]
     },
     "metadata": {},
     "execution_count": 267
    }
   ],
   "source": [
    "flights.shape"
   ]
  },
  {
   "cell_type": "code",
   "execution_count": 280,
   "metadata": {},
   "outputs": [
    {
     "output_type": "execute_result",
     "data": {
      "text/plain": [
       "True"
      ]
     },
     "metadata": {},
     "execution_count": 280
    }
   ],
   "source": [
    "airports.faa.str.match('^[A-Z0-9]{3}$').any(axis=0) # [A-Z0-9]{3}"
   ]
  },
  {
   "cell_type": "code",
   "execution_count": null,
   "metadata": {},
   "outputs": [],
   "source": [
    "#--------------------"
   ]
  },
  {
   "cell_type": "code",
   "execution_count": 26,
   "metadata": {},
   "outputs": [],
   "source": [
    "#6--"
   ]
  },
  {
   "cell_type": "code",
   "execution_count": 30,
   "metadata": {},
   "outputs": [
    {
     "output_type": "execute_result",
     "data": {
      "text/plain": [
       "       origin  year  month  day  hour\n",
       "0         EWR  2013      1    1     5\n",
       "1         LGA  2013      1    1     5\n",
       "2         JFK  2013      1    1     5\n",
       "47782     EWR  2013     10   23    10\n",
       "47835     EWR  2013     10   23    11\n",
       "...       ...   ...    ...  ...   ...\n",
       "297954    LGA  2013      8   19    21\n",
       "297964    JFK  2013      8   19    21\n",
       "297967    EWR  2013      8   19    21\n",
       "300936    JFK  2013      8   22    22\n",
       "310611    EWR  2013      9    2    20\n",
       "\n",
       "[81 rows x 5 columns]"
      ],
      "text/html": "<div>\n<style scoped>\n    .dataframe tbody tr th:only-of-type {\n        vertical-align: middle;\n    }\n\n    .dataframe tbody tr th {\n        vertical-align: top;\n    }\n\n    .dataframe thead th {\n        text-align: right;\n    }\n</style>\n<table border=\"1\" class=\"dataframe\">\n  <thead>\n    <tr style=\"text-align: right;\">\n      <th></th>\n      <th>origin</th>\n      <th>year</th>\n      <th>month</th>\n      <th>day</th>\n      <th>hour</th>\n    </tr>\n  </thead>\n  <tbody>\n    <tr>\n      <th>0</th>\n      <td>EWR</td>\n      <td>2013</td>\n      <td>1</td>\n      <td>1</td>\n      <td>5</td>\n    </tr>\n    <tr>\n      <th>1</th>\n      <td>LGA</td>\n      <td>2013</td>\n      <td>1</td>\n      <td>1</td>\n      <td>5</td>\n    </tr>\n    <tr>\n      <th>2</th>\n      <td>JFK</td>\n      <td>2013</td>\n      <td>1</td>\n      <td>1</td>\n      <td>5</td>\n    </tr>\n    <tr>\n      <th>47782</th>\n      <td>EWR</td>\n      <td>2013</td>\n      <td>10</td>\n      <td>23</td>\n      <td>10</td>\n    </tr>\n    <tr>\n      <th>47835</th>\n      <td>EWR</td>\n      <td>2013</td>\n      <td>10</td>\n      <td>23</td>\n      <td>11</td>\n    </tr>\n    <tr>\n      <th>...</th>\n      <td>...</td>\n      <td>...</td>\n      <td>...</td>\n      <td>...</td>\n      <td>...</td>\n    </tr>\n    <tr>\n      <th>297954</th>\n      <td>LGA</td>\n      <td>2013</td>\n      <td>8</td>\n      <td>19</td>\n      <td>21</td>\n    </tr>\n    <tr>\n      <th>297964</th>\n      <td>JFK</td>\n      <td>2013</td>\n      <td>8</td>\n      <td>19</td>\n      <td>21</td>\n    </tr>\n    <tr>\n      <th>297967</th>\n      <td>EWR</td>\n      <td>2013</td>\n      <td>8</td>\n      <td>19</td>\n      <td>21</td>\n    </tr>\n    <tr>\n      <th>300936</th>\n      <td>JFK</td>\n      <td>2013</td>\n      <td>8</td>\n      <td>22</td>\n      <td>22</td>\n    </tr>\n    <tr>\n      <th>310611</th>\n      <td>EWR</td>\n      <td>2013</td>\n      <td>9</td>\n      <td>2</td>\n      <td>20</td>\n    </tr>\n  </tbody>\n</table>\n<p>81 rows × 5 columns</p>\n</div>"
     },
     "metadata": {},
     "execution_count": 30
    }
   ],
   "source": []
  },
  {
   "cell_type": "code",
   "execution_count": null,
   "metadata": {},
   "outputs": [],
   "source": []
  }
 ],
 "metadata": {
  "kernelspec": {
   "display_name": "Python 3",
   "language": "python",
   "name": "python3"
  },
  "language_info": {
   "codemirror_mode": {
    "name": "ipython",
    "version": 3
   },
   "file_extension": ".py",
   "mimetype": "text/x-python",
   "name": "python",
   "nbconvert_exporter": "python",
   "pygments_lexer": "ipython3",
   "version": "3.8.3-final"
  }
 },
 "nbformat": 4,
 "nbformat_minor": 4
}